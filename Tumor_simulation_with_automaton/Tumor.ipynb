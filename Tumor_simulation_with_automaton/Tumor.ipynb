{
 "cells": [
  {
   "cell_type": "code",
   "execution_count": null,
   "id": "7a483171-b7f2-46a1-b08a-2f58e9d1c914",
   "metadata": {},
   "outputs": [],
   "source": []
  },
  {
   "cell_type": "code",
   "execution_count": 19,
   "id": "ab8e7faa-45e3-41fc-ad9f-e7793e5ea317",
   "metadata": {},
   "outputs": [],
   "source": [
    "from enum import Enum\n",
    "import random \n",
    "from scipy.stats import poisson\n",
    "import numpy as np\n",
    "import matplotlib.pyplot as plt"
   ]
  },
  {
   "cell_type": "code",
   "execution_count": 350,
   "id": "8895de12-f643-41c2-a615-8214bc434b24",
   "metadata": {},
   "outputs": [],
   "source": [
    "\n",
    "class CellType(Enum):\n",
    "    PROLIFERATING = [28/255, 241/255, 93/255]\n",
    "    COMPLEX = [26/255, 69/255, 245/255]\n",
    "    DEAD = [245/255, 72/255, 27/255]\n",
    "    NECROTIC = [130/255, 130/255, 130/255]\n",
    "    \n",
    "    \n",
    "    \n",
    "class Cell:\n",
    "    \n",
    "    def __init__(self, x, y, cellType, nNeighbors):\n",
    "        self.x = x\n",
    "        self.y = y\n",
    "        self.cellType = cellType\n",
    "        #Tiempo de muerte según el artículo\n",
    "        self.life = 20 + nNeighbors + poisson.rvs(mu = 1, size = 1)\n",
    "    \n",
    "    def __eq__(self, other):\n",
    "        self.x == other.x and self.y == other.y\n",
    "        \n",
    "    def dayInTheLife(self):\n",
    "        self.life = self.life - 1\n",
    "        #Si ha pasado su tiempo de vida se vuelve necrotica\n",
    "        if(self.life == 0):\n",
    "            self.cellType = CellType.NECROTIC\n",
    "    \n",
    "\n",
    "class Tissue:\n",
    "    \n",
    "    def __init__(self, width, height):\n",
    "        self.width = width\n",
    "        self.height = height\n",
    "        self.occupiedPositions = np.zeros((self.height, self.width))\n",
    "        self.necroticPositions = np.zeros((self.height, self.width))\n",
    "        self.initializeECM()\n",
    "        self.cells = []\n",
    "        self.colorNecrotic = [176/255, 176/255, 176/255]\n",
    "        #Tasa de consumo de la matriz extracelular\n",
    "        self.ec = 0.1\n",
    "        self.et = 0.05\n",
    "        #Otros parámetros\n",
    "        self.rProlif = 0.85\n",
    "        self.rBinding = 0.1\n",
    "        self.rEscape = 0.5\n",
    "        self.rLysis = 0.35\n",
    "        self.rDecay = 0.35\n",
    "        self.K = 1000\n",
    "        \n",
    "        \n",
    "    def initializeECM(self):\n",
    "        self.extraCellularMatrix = np.zeros((self.height, self.width))\n",
    "        for i in range(0, self.height):\n",
    "            for j in range(0,self.width):\n",
    "                #La ECM inicia con valores de [0.8,1.2]\n",
    "                self.extraCellularMatrix[i,j] = 0.8 + random.random()*(1.2 - 0.8)\n",
    "    \n",
    "    \n",
    "    def countNeighbors(self, x, y):        \n",
    "        sumNeighbors = 0\n",
    "        for i in range(-1,2):\n",
    "            for j in range(-1,2):\n",
    "                if(i != 0 or j!= 0):\n",
    "                    sumNeighbors = sumNeighbors + self.occupiedPositions[(y + j)%self.width, (x + i)%self.height]\n",
    "        return sumNeighbors\n",
    "    \n",
    "    def getPositionsToInfest(self, x, y):\n",
    "        positions = [];\n",
    "        for i in range(-1,2):\n",
    "            for j in range(-1, 2):\n",
    "                if(i != 0 or j!= 0):\n",
    "                    row = (y + i)%self.width\n",
    "                    col = (x + j)%self.height\n",
    "                    if(self.occupiedPositions[row, col]  == 0 and self.necroticPositions[row, col] == 0 and self.extraCellularMatrix[row, col] < self.et):\n",
    "                        positions.append([row, col])\n",
    "        \n",
    "        return positions\n",
    "    \n",
    "    def updateECM(self):\n",
    "        for i in range(0,self.height):\n",
    "            for j in range(0,self.width):\n",
    "                deltaECM = -self.ec*self.countNeighbors(j, i)*self.extraCellularMatrix[i,j]\n",
    "                self.extraCellularMatrix[i,j] = self.extraCellularMatrix[i,j] + deltaECM\n",
    "        \n",
    "    def updateCells(self):\n",
    "        cellsToDelete = []\n",
    "        indsList = list(range(0,len(self.cells)))\n",
    "        random.shuffle(indsList)\n",
    "        for i in indsList:\n",
    "            cell = self.cells[i]\n",
    "            r = random.random()\n",
    "            #Proliferadoras\n",
    "            if(cell.cellType == CellType.PROLIFERATING):\n",
    "                if(r <= self.rProlifPrime):\n",
    "                    normalCells = self.getPositionsToInfest(cell.x, cell.y)\n",
    "                    #print(len(normalCells))\n",
    "                    if(len(normalCells)>0):\n",
    "                        normalCell = random.choice(normalCells)\n",
    "                        self.addProliferatingCell(normalCell[1], normalCell[0])\n",
    "                else:\n",
    "                    if(r <= 1 - self.rBinding):\n",
    "                        self.cells[i].cellType = CellType.COMPLEX\n",
    "            #Complejas\n",
    "            elif(cell.cellType == CellType.COMPLEX):\n",
    "                if(r <= self.rEscape):\n",
    "                    self.cells[i].cellType = CellType.PROLIFERATING\n",
    "                elif(r >= 1 - self.rLysis):\n",
    "                    self.cells[i].cellType = CellType.DEAD\n",
    "                    \n",
    "            elif(cell.cellType == CellType.DEAD):\n",
    "                if(r < self.rDecay):\n",
    "                    cellsToDelete.append(cell)\n",
    "                    \n",
    "            self.cells[i].dayInTheLife()\n",
    "            if(self.cells[i].cellType == CellType.NECROTIC):\n",
    "                self.necroticPositions[cell.y, cell.x] = 1\n",
    "                cellsToDelete.append(cell)\n",
    "        \n",
    "        for i in range(0,len(cellsToDelete)):\n",
    "            if(cellsToDelete[i] in self.cells):\n",
    "                self.removeCell(cellsToDelete[i])\n",
    "    \n",
    "    \n",
    "    def getCellCounts(self):\n",
    "        \n",
    "        proliferatingCells = 0\n",
    "        complexCells = 0\n",
    "        for i in range(0,len(self.cells)):\n",
    "            cell = self.cells[i]\n",
    "            if(cell.cellType == CellType.PROLIFERATING):\n",
    "                proliferatingCells = proliferatingCells + 1\n",
    "            elif(cell.cellType == CellType.COMPLEX):\n",
    "                complexCells = complexCells + 1\n",
    "                \n",
    "        return [proliferatingCells, complexCells, len(self.cells)]\n",
    "    \n",
    "    def plotEvolution(self):\n",
    "        n = np.size(self.cellCountSeries, 0)\n",
    "        plt.figure(figsize = (10,7))\n",
    "        plt.plot(self.cellCountSeries[:,0], color = CellType.PROLIFERATING.value, label = \"Proliferadora\", linewidth = 2)\n",
    "        plt.plot(self.cellCountSeries[:,1], color = CellType.COMPLEX.value, label = \"Compleja\", linewidth = 2)\n",
    "        plt.plot(self.cellCountSeries[:, 2], color = \"#ff9a26\", label = \"Células\", linewidth = 2)\n",
    "        plt.xlabel(\"Paso\")\n",
    "        plt.ylabel(\"N.Células\")\n",
    "        plt.legend()\n",
    "        \n",
    "    \n",
    "    \n",
    "    \n",
    "    def evolveTissue(self, nSteps):\n",
    "        self.cellCountSeries = np.zeros((nSteps+1, 3)) \n",
    "        counts = self.getCellCounts()\n",
    "        self.cellCountSeries[0,:] = counts\n",
    "        for i in range(1, nSteps+1):\n",
    "            self.rProlifPrime = self.rProlif*(1 - counts[0]/self.K)\n",
    "            self.updateECM()\n",
    "            self.updateCells()\n",
    "            counts = self.getCellCounts()\n",
    "            self.cellCountSeries[i,:] = counts\n",
    "    \n",
    "    def addProliferatingCell(self, x, y):\n",
    "        nNeighbors = self.countNeighbors(x,y)\n",
    "        self.cells.append(Cell(x,y,CellType.PROLIFERATING, nNeighbors))\n",
    "        self.occupiedPositions[y,x] = 1\n",
    "        \n",
    "        \n",
    "    def getPicture(self):\n",
    "        picture = np.zeros((self.height, self.width, 3))\n",
    "        for i in range(0, len(self.cells)):\n",
    "            picture[self.cells[i].y, self.cells[i].x,:] = self.cells[i].cellType.value\n",
    "            \n",
    "        for i in range(0, self.height):\n",
    "            for j in range(0, self.width):\n",
    "                if(self.necroticPositions[i,j] == 1):\n",
    "                    picture[i,j,:] = self.colorNecrotic\n",
    "        \n",
    "        return picture\n",
    "            \n",
    "                          \n",
    "    def removeCell(self, cell):\n",
    "        self.cells.remove(cell)\n",
    "        self.occupiedPositions[cell.y, cell.x] = 0\n",
    "                          \n",
    "        \n",
    "    \n",
    "    #Hagamos \n",
    "        \n",
    "    \n",
    "    \n",
    "        \n",
    "        \n",
    "    "
   ]
  },
  {
   "cell_type": "code",
   "execution_count": null,
   "id": "c5f15c54-7931-4733-bbf2-52c367835f4c",
   "metadata": {},
   "outputs": [],
   "source": []
  },
  {
   "cell_type": "code",
   "execution_count": 351,
   "id": "60602b40-00f5-4c36-8bfb-945f10ee27bf",
   "metadata": {},
   "outputs": [
    {
     "data": {
      "text/plain": [
       "<matplotlib.image.AxesImage at 0x165d9c85988>"
      ]
     },
     "execution_count": 351,
     "metadata": {},
     "output_type": "execute_result"
    },
    {
     "data": {
      "image/png": "[encoded data removed]",
      "text/plain": [
       "<Figure size 504x504 with 1 Axes>"
      ]
     },
     "metadata": {
      "needs_background": "light"
     },
     "output_type": "display_data"
    }
   ],
   "source": [
    "width = 100\n",
    "height = 100\n",
    "\n",
    "centerX = int(width/2)\n",
    "centerY = int(width/2)\n",
    "\n",
    "\n",
    "tissue = Tissue(width, height)\n",
    "\n",
    "\n",
    "#Inicializamos el tejido\n",
    "tissue.addProliferatingCell(centerX, centerY)\n",
    "tissue.addProliferatingCell(centerX + 1,centerY)\n",
    "tissue.addProliferatingCell(centerX - 1, centerY)\n",
    "tissue.addProliferatingCell(centerX, centerY + 1)\n",
    "tissue.addProliferatingCell(centerX, centerY - 1)\n",
    "\n",
    "\n",
    "plt.figure(figsize = (7,7))\n",
    "plt.imshow(tissue.getPicture())"
   ]
  },
  {
   "cell_type": "code",
   "execution_count": 352,
   "id": "3e814254-deb8-4e6b-8e3c-770b1c4bbcbf",
   "metadata": {},
   "outputs": [],
   "source": [
    "tissue.evolveTissue(500)"
   ]
  },
  {
   "cell_type": "code",
   "execution_count": 345,
   "id": "f44b5850-a5d5-4935-b265-fe26235d541d",
   "metadata": {},
   "outputs": [
    {
     "data": {
      "text/plain": [
       "<matplotlib.image.AxesImage at 0x165daf21a88>"
      ]
     },
     "execution_count": 345,
     "metadata": {},
     "output_type": "execute_result"
    },
    {
     "data": {
      "image/png": "[encoded data removed]",
      "text/plain": [
       "<Figure size 504x504 with 1 Axes>"
      ]
     },
     "metadata": {
      "needs_background": "light"
     },
     "output_type": "display_data"
    }
   ],
   "source": [
    "plt.figure(figsize = (7,7))\n",
    "plt.imshow(tissue.getPicture())"
   ]
  },
  {
   "cell_type": "code",
   "execution_count": 346,
   "id": "1b839a88-f62d-4018-9eed-f72b0d727b9a",
   "metadata": {},
   "outputs": [
    {
     "data": {
      "image/png": "[encoded data removed]",
      "text/plain": [
       "<Figure size 432x288 with 1 Axes>"
      ]
     },
     "metadata": {
      "needs_background": "light"
     },
     "output_type": "display_data"
    }
   ],
   "source": [
    "tissue.plotEvolution()"
   ]
  },
  {
   "cell_type": "code",
   "execution_count": null,
   "id": "1df6acea-f054-4ac4-981f-20dd9228ddee",
   "metadata": {},
   "outputs": [],
   "source": []
  }
 ],
 "metadata": {
  "kernelspec": {
   "display_name": "Python 3 (ipykernel)",
   "language": "python",
   "name": "python3"
  },
  "language_info": {
   "codemirror_mode": {
    "name": "ipython",
    "version": 3
   },
   "file_extension": ".py",
   "mimetype": "text/x-python",
   "name": "python",
   "nbconvert_exporter": "python",
   "pygments_lexer": "ipython3",
   "version": "3.7.11"
  }
 },
 "nbformat": 4,
 "nbformat_minor": 5
}
